{
  "nbformat": 4,
  "nbformat_minor": 0,
  "metadata": {
    "colab": {
      "provenance": []
    },
    "kernelspec": {
      "name": "python3",
      "display_name": "Python 3"
    },
    "language_info": {
      "name": "python"
    }
  },
  "cells": [
    {
      "cell_type": "markdown",
      "source": [
        "# Create a Neural Network Regression (NNR)\n",
        "\n",
        "Creating a regression problem about Predicting a numerical variable base on other combination of variables\n",
        "Features == Input / Independent\n",
        "Labels == Output / Dependent"
      ],
      "metadata": {
        "id": "MwiHcEs9Ai0S"
      }
    },
    {
      "cell_type": "code",
      "source": [
        "import tensorflow as tf\n",
        "print(tf.__version__)"
      ],
      "metadata": {
        "colab": {
          "base_uri": "https://localhost:8080/"
        },
        "id": "v9R-voeIBC-B",
        "outputId": "84ba78a1-bfc6-49ca-9f97-ab4ea42833cc"
      },
      "execution_count": 1,
      "outputs": [
        {
          "output_type": "stream",
          "name": "stdout",
          "text": [
            "2.15.0\n"
          ]
        }
      ]
    },
    {
      "cell_type": "markdown",
      "source": [
        "## Creating data to view and fit"
      ],
      "metadata": {
        "id": "G9DRnnAyBKbH"
      }
    },
    {
      "cell_type": "code",
      "source": [
        "import numpy as np\n",
        "import matplotlib.pyplot as plt\n",
        "\n",
        "#Create Features\n",
        "X = np.random.rand(1,100)\n",
        "Y = np.random.rand(1,100)\n",
        "X = tf.squeeze(X)\n",
        "Y = tf.squeeze(Y)\n",
        "plt.scatter(X,Y)"
      ],
      "metadata": {
        "colab": {
          "base_uri": "https://localhost:8080/",
          "height": 447
        },
        "id": "GsgIJv5nBS1c",
        "outputId": "abbbbde1-18b3-42ba-e9a5-5bef2ca01c97"
      },
      "execution_count": 21,
      "outputs": [
        {
          "output_type": "execute_result",
          "data": {
            "text/plain": [
              "<matplotlib.collections.PathCollection at 0x7e01615444f0>"
            ]
          },
          "metadata": {},
          "execution_count": 21
        },
        {
          "output_type": "display_data",
          "data": {
            "text/plain": [
              "<Figure size 640x480 with 1 Axes>"
            ],
            "image/png": "[encoded data removed]"
          },
          "metadata": {}
        }
      ]
    },
    {
      "cell_type": "markdown",
      "source": [
        "## Input and Output Shapes"
      ],
      "metadata": {
        "id": "U45QJ79oCIAA"
      }
    },
    {
      "cell_type": "code",
      "source": [
        "#Create a demo tensor for housing price prediction\n",
        "house_info = tf.constant([\"bedroom\",\"bathroom\",\"garage\"])\n",
        "hous_price = tf.constant([950000])"
      ],
      "metadata": {
        "id": "C-4A8eJMC5mz"
      },
      "execution_count": 3,
      "outputs": []
    },
    {
      "cell_type": "code",
      "source": [
        "input_shape = X.shape\n",
        "output_shape = Y.shape\n",
        "input_shape, output_shape"
      ],
      "metadata": {
        "colab": {
          "base_uri": "https://localhost:8080/"
        },
        "id": "DaBbAOUwDbVl",
        "outputId": "9e23b1d2-a601-420c-c5d3-c66f5b69a648"
      },
      "execution_count": 4,
      "outputs": [
        {
          "output_type": "execute_result",
          "data": {
            "text/plain": [
              "(TensorShape([16]), TensorShape([16]))"
            ]
          },
          "metadata": {},
          "execution_count": 4
        }
      ]
    },
    {
      "cell_type": "code",
      "source": [
        "X[0].numpy(), Y[0].numpy()"
      ],
      "metadata": {
        "colab": {
          "base_uri": "https://localhost:8080/"
        },
        "id": "mjLcwsZnDjgs",
        "outputId": "e193d67b-ce31-4eec-b59e-fd2bfa8acdcb"
      },
      "execution_count": 5,
      "outputs": [
        {
          "output_type": "execute_result",
          "data": {
            "text/plain": [
              "(0.12514958197322235, 0.479082521977784)"
            ]
          },
          "metadata": {},
          "execution_count": 5
        }
      ]
    },
    {
      "cell_type": "markdown",
      "source": [
        "## First Modelling with TensorFlow\n",
        "\n",
        "\n",
        "1.   Creating the model (input & output)\n",
        "2.   Compiling a Model : define the losst function (The function which tells our model how wrong it is), the optimize (tells our model how to improve the patterns) and evaluation metrics (what we can use to interpret the performance)\n",
        "3.   Fit the modelling\n",
        "\n"
      ],
      "metadata": {
        "id": "Y1VfgagjDqWt"
      }
    },
    {
      "cell_type": "code",
      "source": [
        "tf.random.set_seed(42)\n",
        "\n",
        "model = tf.keras.Sequential([\n",
        "    tf.keras.layers.Dense(1)\n",
        "])\n",
        "\n",
        "model.compile(loss=tf.keras.losses.mae,\n",
        "              optimizer = tf.keras.optimizers.SGD(),\n",
        "              metrics=[\"mae\"])\n",
        "model.fit(tf.expand_dims(X,axis=-1),Y,epochs=5)\n"
      ],
      "metadata": {
        "colab": {
          "base_uri": "https://localhost:8080/"
        },
        "id": "_jhddDBGE40V",
        "outputId": "387d11a1-578e-4b87-915b-abf5d1aa2782"
      },
      "execution_count": 6,
      "outputs": [
        {
          "output_type": "stream",
          "name": "stdout",
          "text": [
            "Epoch 1/5\n",
            "1/1 [==============================] - 1s 525ms/step - loss: 0.3259 - mae: 0.3259\n",
            "Epoch 2/5\n",
            "1/1 [==============================] - 0s 10ms/step - loss: 0.3190 - mae: 0.3190\n",
            "Epoch 3/5\n",
            "1/1 [==============================] - 0s 12ms/step - loss: 0.3122 - mae: 0.3122\n",
            "Epoch 4/5\n",
            "1/1 [==============================] - 0s 11ms/step - loss: 0.3054 - mae: 0.3054\n",
            "Epoch 5/5\n",
            "1/1 [==============================] - 0s 9ms/step - loss: 0.2985 - mae: 0.2985\n"
          ]
        },
        {
          "output_type": "execute_result",
          "data": {
            "text/plain": [
              "<keras.src.callbacks.History at 0x7e0170f1fd90>"
            ]
          },
          "metadata": {},
          "execution_count": 6
        }
      ]
    },
    {
      "cell_type": "code",
      "source": [
        "X, Y"
      ],
      "metadata": {
        "colab": {
          "base_uri": "https://localhost:8080/"
        },
        "id": "sQLQs9UTIal1",
        "outputId": "c96bdcf9-0dfc-4231-cb61-2465f9292c87"
      },
      "execution_count": 22,
      "outputs": [
        {
          "output_type": "execute_result",
          "data": {
            "text/plain": [
              "(<tf.Tensor: shape=(100,), dtype=float64, numpy=\n",
              " array([0.46890839, 0.26522081, 0.35230333, 0.30118561, 0.75781308,\n",
              "        0.30947783, 0.03777963, 0.92805118, 0.18646341, 0.17184291,\n",
              "        0.56788474, 0.41055247, 0.72127403, 0.91544524, 0.15718805,\n",
              "        0.81224793, 0.02714805, 0.95846474, 0.06275531, 0.31185374,\n",
              "        0.30478391, 0.62160452, 0.20680548, 0.93667125, 0.52916096,\n",
              "        0.68529   , 0.07773216, 0.20804822, 0.37608125, 0.4957543 ,\n",
              "        0.42004083, 0.81009869, 0.11994189, 0.35102488, 0.55403992,\n",
              "        0.15158888, 0.78375693, 0.85119633, 0.56795937, 0.79205096,\n",
              "        0.76566471, 0.05142554, 0.537993  , 0.51559168, 0.4392834 ,\n",
              "        0.72853824, 0.78041189, 0.03535117, 0.89685899, 0.19406698,\n",
              "        0.31095755, 0.65460649, 0.23354212, 0.70087119, 0.69858075,\n",
              "        0.01841553, 0.24829417, 0.64804352, 0.94968423, 0.67556677,\n",
              "        0.87405595, 0.04839157, 0.47286504, 0.37551654, 0.28250909,\n",
              "        0.63671653, 0.15080582, 0.26589445, 0.00289522, 0.10287738,\n",
              "        0.45367703, 0.26762432, 0.47020835, 0.21738847, 0.12817639,\n",
              "        0.8815333 , 0.12175232, 0.6081196 , 0.36708282, 0.46338365,\n",
              "        0.79915681, 0.14803678, 0.85608011, 0.3373798 , 0.47021236,\n",
              "        0.02415014, 0.57522763, 0.90310025, 0.85567151, 0.84082304,\n",
              "        0.79136024, 0.30684679, 0.30283454, 0.52357782, 0.38978676,\n",
              "        0.4688081 , 0.66988393, 0.82792432, 0.41288274, 0.84465835])>,\n",
              " <tf.Tensor: shape=(100,), dtype=float64, numpy=\n",
              " array([0.59182513, 0.62886625, 0.95596094, 0.86818792, 0.64724519,\n",
              "        0.35203868, 0.74801169, 0.79477353, 0.76050352, 0.25878032,\n",
              "        0.30821754, 0.83740928, 0.69936797, 0.12229213, 0.40560754,\n",
              "        0.30827508, 0.44503632, 0.82100519, 0.92208308, 0.71191795,\n",
              "        0.97432916, 0.87764554, 0.71100801, 0.5421437 , 0.32173983,\n",
              "        0.41761156, 0.99939117, 0.36949324, 0.14064096, 0.34273222,\n",
              "        0.98477853, 0.12207336, 0.11276098, 0.75142432, 0.2797685 ,\n",
              "        0.79916584, 0.60036697, 0.71988949, 0.57847066, 0.1620632 ,\n",
              "        0.58975516, 0.26387721, 0.41890668, 0.91090841, 0.75167732,\n",
              "        0.99196644, 0.73640714, 0.05901658, 0.08385667, 0.88057417,\n",
              "        0.91101494, 0.94864554, 0.4810442 , 0.84623047, 0.77078212,\n",
              "        0.37244775, 0.79676558, 0.9773192 , 0.63732544, 0.74418532,\n",
              "        0.78889498, 0.0720817 , 0.41274445, 0.56265276, 0.41826022,\n",
              "        0.58668945, 0.56013638, 0.60234687, 0.28328379, 0.79065272,\n",
              "        0.1006043 , 0.06899664, 0.90406717, 0.6614592 , 0.77706713,\n",
              "        0.88263096, 0.14425468, 0.81738181, 0.2065753 , 0.12940935,\n",
              "        0.36449853, 0.09192413, 0.52279555, 0.91794497, 0.2809429 ,\n",
              "        0.22313233, 0.42021256, 0.21135005, 0.52844442, 0.39404436,\n",
              "        0.68489197, 0.79246019, 0.61583303, 0.97462374, 0.33658612,\n",
              "        0.38458697, 0.25326478, 0.98062311, 0.3941858 , 0.84882012])>)"
            ]
          },
          "metadata": {},
          "execution_count": 22
        }
      ]
    },
    {
      "cell_type": "code",
      "source": [
        "model.predict([1.0])"
      ],
      "metadata": {
        "colab": {
          "base_uri": "https://localhost:8080/"
        },
        "id": "Yj3al1grJV8o",
        "outputId": "8fd49d11-71a7-4643-dc1d-6f744731a020"
      },
      "execution_count": 8,
      "outputs": [
        {
          "output_type": "stream",
          "name": "stdout",
          "text": [
            "1/1 [==============================] - 0s 96ms/step\n"
          ]
        },
        {
          "output_type": "execute_result",
          "data": {
            "text/plain": [
              "array([[0.5682481]], dtype=float32)"
            ]
          },
          "metadata": {},
          "execution_count": 8
        }
      ]
    },
    {
      "cell_type": "markdown",
      "source": [
        "## Improve the model\n",
        "We can improve the creation, compile and the fitting by updating them\n",
        "1. **Creating a model** - Add More layers, increase number of hidden units (neurons), change the activation function of each layer\n",
        "2. **compiling a model** - here we might change the optimization function or perhapse the **learning rate** of the optimization function.\n",
        "3. **Fitting a model** - here we might fut a model for more **epochs** or on more data\n"
      ],
      "metadata": {
        "id": "KntyZ_pOJZ__"
      }
    },
    {
      "cell_type": "code",
      "source": [
        "tf.random.set_seed(42)\n",
        "\n",
        "model = tf.keras.Sequential([\n",
        "    tf.keras.layers.Dense(100,activation=\"relu\"),\n",
        "    tf.keras.layers.Dense(100,activation=\"relu\"),\n",
        "\n",
        "    tf.keras.layers.Dense(1)\n",
        "])\n",
        "#Adam(learning_rate=0.0001)\n",
        "model.compile(loss=tf.keras.losses.mae,\n",
        "              optimizer = tf.keras.optimizers.SGD(),\n",
        "              metrics=[\"mae\"])\n",
        "model.fit(tf.expand_dims(X,axis=-1),Y,epochs=200)"
      ],
      "metadata": {
        "colab": {
          "base_uri": "https://localhost:8080/"
        },
        "id": "hBB3xBmoLJ6K",
        "outputId": "f9edb98e-1330-45b1-99ff-496c84fdfd9b"
      },
      "execution_count": 25,
      "outputs": [
        {
          "output_type": "stream",
          "name": "stdout",
          "text": [
            "Epoch 1/200\n",
            "4/4 [==============================] - 1s 5ms/step - loss: 0.5796 - mae: 0.5796\n",
            "Epoch 2/200\n",
            "4/4 [==============================] - 0s 4ms/step - loss: 0.4793 - mae: 0.4793\n",
            "Epoch 3/200\n",
            "4/4 [==============================] - 0s 4ms/step - loss: 0.4070 - mae: 0.4070\n",
            "Epoch 4/200\n",
            "4/4 [==============================] - 0s 3ms/step - loss: 0.3552 - mae: 0.3552\n",
            "Epoch 5/200\n",
            "4/4 [==============================] - 0s 4ms/step - loss: 0.3257 - mae: 0.3257\n",
            "Epoch 6/200\n",
            "4/4 [==============================] - 0s 4ms/step - loss: 0.2945 - mae: 0.2945\n",
            "Epoch 7/200\n",
            "4/4 [==============================] - 0s 4ms/step - loss: 0.2746 - mae: 0.2746\n",
            "Epoch 8/200\n",
            "4/4 [==============================] - 0s 4ms/step - loss: 0.2649 - mae: 0.2649\n",
            "Epoch 9/200\n",
            "4/4 [==============================] - 0s 3ms/step - loss: 0.2577 - mae: 0.2577\n",
            "Epoch 10/200\n",
            "4/4 [==============================] - 0s 3ms/step - loss: 0.2523 - mae: 0.2523\n",
            "Epoch 11/200\n",
            "4/4 [==============================] - 0s 4ms/step - loss: 0.2524 - mae: 0.2524\n",
            "Epoch 12/200\n",
            "4/4 [==============================] - 0s 3ms/step - loss: 0.2501 - mae: 0.2501\n",
            "Epoch 13/200\n",
            "4/4 [==============================] - 0s 3ms/step - loss: 0.2502 - mae: 0.2502\n",
            "Epoch 14/200\n",
            "4/4 [==============================] - 0s 3ms/step - loss: 0.2503 - mae: 0.2503\n",
            "Epoch 15/200\n",
            "4/4 [==============================] - 0s 4ms/step - loss: 0.2489 - mae: 0.2489\n",
            "Epoch 16/200\n",
            "4/4 [==============================] - 0s 3ms/step - loss: 0.2470 - mae: 0.2470\n",
            "Epoch 17/200\n",
            "4/4 [==============================] - 0s 3ms/step - loss: 0.2451 - mae: 0.2451\n",
            "Epoch 18/200\n",
            "4/4 [==============================] - 0s 4ms/step - loss: 0.2445 - mae: 0.2445\n",
            "Epoch 19/200\n",
            "4/4 [==============================] - 0s 4ms/step - loss: 0.2432 - mae: 0.2432\n",
            "Epoch 20/200\n",
            "4/4 [==============================] - 0s 3ms/step - loss: 0.2430 - mae: 0.2430\n",
            "Epoch 21/200\n",
            "4/4 [==============================] - 0s 4ms/step - loss: 0.2428 - mae: 0.2428\n",
            "Epoch 22/200\n",
            "4/4 [==============================] - 0s 4ms/step - loss: 0.2428 - mae: 0.2428\n",
            "Epoch 23/200\n",
            "4/4 [==============================] - 0s 5ms/step - loss: 0.2431 - mae: 0.2431\n",
            "Epoch 24/200\n",
            "4/4 [==============================] - 0s 3ms/step - loss: 0.2425 - mae: 0.2425\n",
            "Epoch 25/200\n",
            "4/4 [==============================] - 0s 4ms/step - loss: 0.2428 - mae: 0.2428\n",
            "Epoch 26/200\n",
            "4/4 [==============================] - 0s 4ms/step - loss: 0.2432 - mae: 0.2432\n",
            "Epoch 27/200\n",
            "4/4 [==============================] - 0s 4ms/step - loss: 0.2436 - mae: 0.2436\n",
            "Epoch 28/200\n",
            "4/4 [==============================] - 0s 4ms/step - loss: 0.2423 - mae: 0.2423\n",
            "Epoch 29/200\n",
            "4/4 [==============================] - 0s 3ms/step - loss: 0.2433 - mae: 0.2433\n",
            "Epoch 30/200\n",
            "4/4 [==============================] - 0s 3ms/step - loss: 0.2429 - mae: 0.2429\n",
            "Epoch 31/200\n",
            "4/4 [==============================] - 0s 4ms/step - loss: 0.2426 - mae: 0.2426\n",
            "Epoch 32/200\n",
            "4/4 [==============================] - 0s 5ms/step - loss: 0.2422 - mae: 0.2422\n",
            "Epoch 33/200\n",
            "4/4 [==============================] - 0s 4ms/step - loss: 0.2427 - mae: 0.2427\n",
            "Epoch 34/200\n",
            "4/4 [==============================] - 0s 4ms/step - loss: 0.2426 - mae: 0.2426\n",
            "Epoch 35/200\n",
            "4/4 [==============================] - 0s 4ms/step - loss: 0.2430 - mae: 0.2430\n",
            "Epoch 36/200\n",
            "4/4 [==============================] - 0s 4ms/step - loss: 0.2430 - mae: 0.2430\n",
            "Epoch 37/200\n",
            "4/4 [==============================] - 0s 4ms/step - loss: 0.2424 - mae: 0.2424\n",
            "Epoch 38/200\n",
            "4/4 [==============================] - 0s 4ms/step - loss: 0.2424 - mae: 0.2424\n",
            "Epoch 39/200\n",
            "4/4 [==============================] - 0s 4ms/step - loss: 0.2422 - mae: 0.2422\n",
            "Epoch 40/200\n",
            "4/4 [==============================] - 0s 4ms/step - loss: 0.2426 - mae: 0.2426\n",
            "Epoch 41/200\n",
            "4/4 [==============================] - 0s 4ms/step - loss: 0.2422 - mae: 0.2422\n",
            "Epoch 42/200\n",
            "4/4 [==============================] - 0s 3ms/step - loss: 0.2420 - mae: 0.2420\n",
            "Epoch 43/200\n",
            "4/4 [==============================] - 0s 4ms/step - loss: 0.2423 - mae: 0.2423\n",
            "Epoch 44/200\n",
            "4/4 [==============================] - 0s 3ms/step - loss: 0.2431 - mae: 0.2431\n",
            "Epoch 45/200\n",
            "4/4 [==============================] - 0s 4ms/step - loss: 0.2421 - mae: 0.2421\n",
            "Epoch 46/200\n",
            "4/4 [==============================] - 0s 3ms/step - loss: 0.2420 - mae: 0.2420\n",
            "Epoch 47/200\n",
            "4/4 [==============================] - 0s 4ms/step - loss: 0.2421 - mae: 0.2421\n",
            "Epoch 48/200\n",
            "4/4 [==============================] - 0s 5ms/step - loss: 0.2420 - mae: 0.2420\n",
            "Epoch 49/200\n",
            "4/4 [==============================] - 0s 5ms/step - loss: 0.2423 - mae: 0.2423\n",
            "Epoch 50/200\n",
            "4/4 [==============================] - 0s 4ms/step - loss: 0.2424 - mae: 0.2424\n",
            "Epoch 51/200\n",
            "4/4 [==============================] - 0s 4ms/step - loss: 0.2422 - mae: 0.2422\n",
            "Epoch 52/200\n",
            "4/4 [==============================] - 0s 4ms/step - loss: 0.2426 - mae: 0.2426\n",
            "Epoch 53/200\n",
            "4/4 [==============================] - 0s 3ms/step - loss: 0.2422 - mae: 0.2422\n",
            "Epoch 54/200\n",
            "4/4 [==============================] - 0s 4ms/step - loss: 0.2426 - mae: 0.2426\n",
            "Epoch 55/200\n",
            "4/4 [==============================] - 0s 4ms/step - loss: 0.2425 - mae: 0.2425\n",
            "Epoch 56/200\n",
            "4/4 [==============================] - 0s 4ms/step - loss: 0.2423 - mae: 0.2423\n",
            "Epoch 57/200\n",
            "4/4 [==============================] - 0s 4ms/step - loss: 0.2423 - mae: 0.2423\n",
            "Epoch 58/200\n",
            "4/4 [==============================] - 0s 4ms/step - loss: 0.2422 - mae: 0.2422\n",
            "Epoch 59/200\n",
            "4/4 [==============================] - 0s 3ms/step - loss: 0.2426 - mae: 0.2426\n",
            "Epoch 60/200\n",
            "4/4 [==============================] - 0s 4ms/step - loss: 0.2420 - mae: 0.2420\n",
            "Epoch 61/200\n",
            "4/4 [==============================] - 0s 4ms/step - loss: 0.2428 - mae: 0.2428\n",
            "Epoch 62/200\n",
            "4/4 [==============================] - 0s 3ms/step - loss: 0.2424 - mae: 0.2424\n",
            "Epoch 63/200\n",
            "4/4 [==============================] - 0s 4ms/step - loss: 0.2428 - mae: 0.2428\n",
            "Epoch 64/200\n",
            "4/4 [==============================] - 0s 4ms/step - loss: 0.2422 - mae: 0.2422\n",
            "Epoch 65/200\n",
            "4/4 [==============================] - 0s 4ms/step - loss: 0.2421 - mae: 0.2421\n",
            "Epoch 66/200\n",
            "4/4 [==============================] - 0s 4ms/step - loss: 0.2422 - mae: 0.2422\n",
            "Epoch 67/200\n",
            "4/4 [==============================] - 0s 4ms/step - loss: 0.2427 - mae: 0.2427\n",
            "Epoch 68/200\n",
            "4/4 [==============================] - 0s 3ms/step - loss: 0.2419 - mae: 0.2419\n",
            "Epoch 69/200\n",
            "4/4 [==============================] - 0s 4ms/step - loss: 0.2423 - mae: 0.2423\n",
            "Epoch 70/200\n",
            "4/4 [==============================] - 0s 4ms/step - loss: 0.2432 - mae: 0.2432\n",
            "Epoch 71/200\n",
            "4/4 [==============================] - 0s 4ms/step - loss: 0.2432 - mae: 0.2432\n",
            "Epoch 72/200\n",
            "4/4 [==============================] - 0s 6ms/step - loss: 0.2423 - mae: 0.2423\n",
            "Epoch 73/200\n",
            "4/4 [==============================] - 0s 4ms/step - loss: 0.2422 - mae: 0.2422\n",
            "Epoch 74/200\n",
            "4/4 [==============================] - 0s 6ms/step - loss: 0.2423 - mae: 0.2423\n",
            "Epoch 75/200\n",
            "4/4 [==============================] - 0s 4ms/step - loss: 0.2423 - mae: 0.2423\n",
            "Epoch 76/200\n",
            "4/4 [==============================] - 0s 4ms/step - loss: 0.2420 - mae: 0.2420\n",
            "Epoch 77/200\n",
            "4/4 [==============================] - 0s 4ms/step - loss: 0.2425 - mae: 0.2425\n",
            "Epoch 78/200\n",
            "4/4 [==============================] - 0s 4ms/step - loss: 0.2428 - mae: 0.2428\n",
            "Epoch 79/200\n",
            "4/4 [==============================] - 0s 4ms/step - loss: 0.2419 - mae: 0.2419\n",
            "Epoch 80/200\n",
            "4/4 [==============================] - 0s 5ms/step - loss: 0.2422 - mae: 0.2422\n",
            "Epoch 81/200\n",
            "4/4 [==============================] - 0s 5ms/step - loss: 0.2418 - mae: 0.2418\n",
            "Epoch 82/200\n",
            "4/4 [==============================] - 0s 5ms/step - loss: 0.2419 - mae: 0.2419\n",
            "Epoch 83/200\n",
            "4/4 [==============================] - 0s 4ms/step - loss: 0.2422 - mae: 0.2422\n",
            "Epoch 84/200\n",
            "4/4 [==============================] - 0s 4ms/step - loss: 0.2418 - mae: 0.2418\n",
            "Epoch 85/200\n",
            "4/4 [==============================] - 0s 4ms/step - loss: 0.2418 - mae: 0.2418\n",
            "Epoch 86/200\n",
            "4/4 [==============================] - 0s 5ms/step - loss: 0.2425 - mae: 0.2425\n",
            "Epoch 87/200\n",
            "4/4 [==============================] - 0s 5ms/step - loss: 0.2427 - mae: 0.2427\n",
            "Epoch 88/200\n",
            "4/4 [==============================] - 0s 5ms/step - loss: 0.2431 - mae: 0.2431\n",
            "Epoch 89/200\n",
            "4/4 [==============================] - 0s 4ms/step - loss: 0.2426 - mae: 0.2426\n",
            "Epoch 90/200\n",
            "4/4 [==============================] - 0s 4ms/step - loss: 0.2423 - mae: 0.2423\n",
            "Epoch 91/200\n",
            "4/4 [==============================] - 0s 7ms/step - loss: 0.2420 - mae: 0.2420\n",
            "Epoch 92/200\n",
            "4/4 [==============================] - 0s 6ms/step - loss: 0.2418 - mae: 0.2418\n",
            "Epoch 93/200\n",
            "4/4 [==============================] - 0s 6ms/step - loss: 0.2420 - mae: 0.2420\n",
            "Epoch 94/200\n",
            "4/4 [==============================] - 0s 5ms/step - loss: 0.2424 - mae: 0.2424\n",
            "Epoch 95/200\n",
            "4/4 [==============================] - 0s 6ms/step - loss: 0.2431 - mae: 0.2431\n",
            "Epoch 96/200\n",
            "4/4 [==============================] - 0s 7ms/step - loss: 0.2417 - mae: 0.2417\n",
            "Epoch 97/200\n",
            "4/4 [==============================] - 0s 6ms/step - loss: 0.2417 - mae: 0.2417\n",
            "Epoch 98/200\n",
            "4/4 [==============================] - 0s 4ms/step - loss: 0.2418 - mae: 0.2418\n",
            "Epoch 99/200\n",
            "4/4 [==============================] - 0s 5ms/step - loss: 0.2418 - mae: 0.2418\n",
            "Epoch 100/200\n",
            "4/4 [==============================] - 0s 5ms/step - loss: 0.2420 - mae: 0.2420\n",
            "Epoch 101/200\n",
            "4/4 [==============================] - 0s 4ms/step - loss: 0.2423 - mae: 0.2423\n",
            "Epoch 102/200\n",
            "4/4 [==============================] - 0s 5ms/step - loss: 0.2428 - mae: 0.2428\n",
            "Epoch 103/200\n",
            "4/4 [==============================] - 0s 5ms/step - loss: 0.2434 - mae: 0.2434\n",
            "Epoch 104/200\n",
            "4/4 [==============================] - 0s 4ms/step - loss: 0.2430 - mae: 0.2430\n",
            "Epoch 105/200\n",
            "4/4 [==============================] - 0s 4ms/step - loss: 0.2429 - mae: 0.2429\n",
            "Epoch 106/200\n",
            "4/4 [==============================] - 0s 4ms/step - loss: 0.2420 - mae: 0.2420\n",
            "Epoch 107/200\n",
            "4/4 [==============================] - 0s 4ms/step - loss: 0.2418 - mae: 0.2418\n",
            "Epoch 108/200\n",
            "4/4 [==============================] - 0s 4ms/step - loss: 0.2422 - mae: 0.2422\n",
            "Epoch 109/200\n",
            "4/4 [==============================] - 0s 4ms/step - loss: 0.2423 - mae: 0.2423\n",
            "Epoch 110/200\n",
            "4/4 [==============================] - 0s 4ms/step - loss: 0.2418 - mae: 0.2418\n",
            "Epoch 111/200\n",
            "4/4 [==============================] - 0s 7ms/step - loss: 0.2423 - mae: 0.2423\n",
            "Epoch 112/200\n",
            "4/4 [==============================] - 0s 5ms/step - loss: 0.2422 - mae: 0.2422\n",
            "Epoch 113/200\n",
            "4/4 [==============================] - 0s 5ms/step - loss: 0.2420 - mae: 0.2420\n",
            "Epoch 114/200\n",
            "4/4 [==============================] - 0s 5ms/step - loss: 0.2419 - mae: 0.2419\n",
            "Epoch 115/200\n",
            "4/4 [==============================] - 0s 5ms/step - loss: 0.2418 - mae: 0.2418\n",
            "Epoch 116/200\n",
            "4/4 [==============================] - 0s 5ms/step - loss: 0.2419 - mae: 0.2419\n",
            "Epoch 117/200\n",
            "4/4 [==============================] - 0s 5ms/step - loss: 0.2428 - mae: 0.2428\n",
            "Epoch 118/200\n",
            "4/4 [==============================] - 0s 4ms/step - loss: 0.2426 - mae: 0.2426\n",
            "Epoch 119/200\n",
            "4/4 [==============================] - 0s 6ms/step - loss: 0.2421 - mae: 0.2421\n",
            "Epoch 120/200\n",
            "4/4 [==============================] - 0s 6ms/step - loss: 0.2418 - mae: 0.2418\n",
            "Epoch 121/200\n",
            "4/4 [==============================] - 0s 5ms/step - loss: 0.2417 - mae: 0.2417\n",
            "Epoch 122/200\n",
            "4/4 [==============================] - 0s 5ms/step - loss: 0.2419 - mae: 0.2419\n",
            "Epoch 123/200\n",
            "4/4 [==============================] - 0s 5ms/step - loss: 0.2422 - mae: 0.2422\n",
            "Epoch 124/200\n",
            "4/4 [==============================] - 0s 4ms/step - loss: 0.2420 - mae: 0.2420\n",
            "Epoch 125/200\n",
            "4/4 [==============================] - 0s 4ms/step - loss: 0.2419 - mae: 0.2419\n",
            "Epoch 126/200\n",
            "4/4 [==============================] - 0s 5ms/step - loss: 0.2422 - mae: 0.2422\n",
            "Epoch 127/200\n",
            "4/4 [==============================] - 0s 5ms/step - loss: 0.2426 - mae: 0.2426\n",
            "Epoch 128/200\n",
            "4/4 [==============================] - 0s 4ms/step - loss: 0.2417 - mae: 0.2417\n",
            "Epoch 129/200\n",
            "4/4 [==============================] - 0s 5ms/step - loss: 0.2418 - mae: 0.2418\n",
            "Epoch 130/200\n",
            "4/4 [==============================] - 0s 5ms/step - loss: 0.2417 - mae: 0.2417\n",
            "Epoch 131/200\n",
            "4/4 [==============================] - 0s 5ms/step - loss: 0.2415 - mae: 0.2415\n",
            "Epoch 132/200\n",
            "4/4 [==============================] - 0s 5ms/step - loss: 0.2417 - mae: 0.2417\n",
            "Epoch 133/200\n",
            "4/4 [==============================] - 0s 5ms/step - loss: 0.2417 - mae: 0.2417\n",
            "Epoch 134/200\n",
            "4/4 [==============================] - 0s 5ms/step - loss: 0.2418 - mae: 0.2418\n",
            "Epoch 135/200\n",
            "4/4 [==============================] - 0s 7ms/step - loss: 0.2427 - mae: 0.2427\n",
            "Epoch 136/200\n",
            "4/4 [==============================] - 0s 6ms/step - loss: 0.2418 - mae: 0.2418\n",
            "Epoch 137/200\n",
            "4/4 [==============================] - 0s 6ms/step - loss: 0.2421 - mae: 0.2421\n",
            "Epoch 138/200\n",
            "4/4 [==============================] - 0s 4ms/step - loss: 0.2419 - mae: 0.2419\n",
            "Epoch 139/200\n",
            "4/4 [==============================] - 0s 5ms/step - loss: 0.2423 - mae: 0.2423\n",
            "Epoch 140/200\n",
            "4/4 [==============================] - 0s 5ms/step - loss: 0.2424 - mae: 0.2424\n",
            "Epoch 141/200\n",
            "4/4 [==============================] - 0s 4ms/step - loss: 0.2420 - mae: 0.2420\n",
            "Epoch 142/200\n",
            "4/4 [==============================] - 0s 4ms/step - loss: 0.2418 - mae: 0.2418\n",
            "Epoch 143/200\n",
            "4/4 [==============================] - 0s 4ms/step - loss: 0.2427 - mae: 0.2427\n",
            "Epoch 144/200\n",
            "4/4 [==============================] - 0s 4ms/step - loss: 0.2441 - mae: 0.2441\n",
            "Epoch 145/200\n",
            "4/4 [==============================] - 0s 6ms/step - loss: 0.2434 - mae: 0.2434\n",
            "Epoch 146/200\n",
            "4/4 [==============================] - 0s 5ms/step - loss: 0.2442 - mae: 0.2442\n",
            "Epoch 147/200\n",
            "4/4 [==============================] - 0s 5ms/step - loss: 0.2421 - mae: 0.2421\n",
            "Epoch 148/200\n",
            "4/4 [==============================] - 0s 5ms/step - loss: 0.2417 - mae: 0.2417\n",
            "Epoch 149/200\n",
            "4/4 [==============================] - 0s 5ms/step - loss: 0.2418 - mae: 0.2418\n",
            "Epoch 150/200\n",
            "4/4 [==============================] - 0s 4ms/step - loss: 0.2421 - mae: 0.2421\n",
            "Epoch 151/200\n",
            "4/4 [==============================] - 0s 5ms/step - loss: 0.2419 - mae: 0.2419\n",
            "Epoch 152/200\n",
            "4/4 [==============================] - 0s 4ms/step - loss: 0.2418 - mae: 0.2418\n",
            "Epoch 153/200\n",
            "4/4 [==============================] - 0s 4ms/step - loss: 0.2418 - mae: 0.2418\n",
            "Epoch 154/200\n",
            "4/4 [==============================] - 0s 4ms/step - loss: 0.2415 - mae: 0.2415\n",
            "Epoch 155/200\n",
            "4/4 [==============================] - 0s 5ms/step - loss: 0.2419 - mae: 0.2419\n",
            "Epoch 156/200\n",
            "4/4 [==============================] - 0s 5ms/step - loss: 0.2417 - mae: 0.2417\n",
            "Epoch 157/200\n",
            "4/4 [==============================] - 0s 5ms/step - loss: 0.2417 - mae: 0.2417\n",
            "Epoch 158/200\n",
            "4/4 [==============================] - 0s 5ms/step - loss: 0.2417 - mae: 0.2417\n",
            "Epoch 159/200\n",
            "4/4 [==============================] - 0s 5ms/step - loss: 0.2417 - mae: 0.2417\n",
            "Epoch 160/200\n",
            "4/4 [==============================] - 0s 5ms/step - loss: 0.2420 - mae: 0.2420\n",
            "Epoch 161/200\n",
            "4/4 [==============================] - 0s 4ms/step - loss: 0.2421 - mae: 0.2421\n",
            "Epoch 162/200\n",
            "4/4 [==============================] - 0s 4ms/step - loss: 0.2420 - mae: 0.2420\n",
            "Epoch 163/200\n",
            "4/4 [==============================] - 0s 4ms/step - loss: 0.2420 - mae: 0.2420\n",
            "Epoch 164/200\n",
            "4/4 [==============================] - 0s 5ms/step - loss: 0.2417 - mae: 0.2417\n",
            "Epoch 165/200\n",
            "4/4 [==============================] - 0s 4ms/step - loss: 0.2424 - mae: 0.2424\n",
            "Epoch 166/200\n",
            "4/4 [==============================] - 0s 4ms/step - loss: 0.2430 - mae: 0.2430\n",
            "Epoch 167/200\n",
            "4/4 [==============================] - 0s 4ms/step - loss: 0.2434 - mae: 0.2434\n",
            "Epoch 168/200\n",
            "4/4 [==============================] - 0s 4ms/step - loss: 0.2417 - mae: 0.2417\n",
            "Epoch 169/200\n",
            "4/4 [==============================] - 0s 4ms/step - loss: 0.2416 - mae: 0.2416\n",
            "Epoch 170/200\n",
            "4/4 [==============================] - 0s 4ms/step - loss: 0.2420 - mae: 0.2420\n",
            "Epoch 171/200\n",
            "4/4 [==============================] - 0s 5ms/step - loss: 0.2426 - mae: 0.2426\n",
            "Epoch 172/200\n",
            "4/4 [==============================] - 0s 5ms/step - loss: 0.2427 - mae: 0.2427\n",
            "Epoch 173/200\n",
            "4/4 [==============================] - 0s 4ms/step - loss: 0.2427 - mae: 0.2427\n",
            "Epoch 174/200\n",
            "4/4 [==============================] - 0s 4ms/step - loss: 0.2416 - mae: 0.2416\n",
            "Epoch 175/200\n",
            "4/4 [==============================] - 0s 7ms/step - loss: 0.2421 - mae: 0.2421\n",
            "Epoch 176/200\n",
            "4/4 [==============================] - 0s 5ms/step - loss: 0.2415 - mae: 0.2415\n",
            "Epoch 177/200\n",
            "4/4 [==============================] - 0s 4ms/step - loss: 0.2414 - mae: 0.2414\n",
            "Epoch 178/200\n",
            "4/4 [==============================] - 0s 5ms/step - loss: 0.2415 - mae: 0.2415\n",
            "Epoch 179/200\n",
            "4/4 [==============================] - 0s 7ms/step - loss: 0.2429 - mae: 0.2429\n",
            "Epoch 180/200\n",
            "4/4 [==============================] - 0s 5ms/step - loss: 0.2424 - mae: 0.2424\n",
            "Epoch 181/200\n",
            "4/4 [==============================] - 0s 5ms/step - loss: 0.2420 - mae: 0.2420\n",
            "Epoch 182/200\n",
            "4/4 [==============================] - 0s 5ms/step - loss: 0.2415 - mae: 0.2415\n",
            "Epoch 183/200\n",
            "4/4 [==============================] - 0s 4ms/step - loss: 0.2413 - mae: 0.2413\n",
            "Epoch 184/200\n",
            "4/4 [==============================] - 0s 5ms/step - loss: 0.2420 - mae: 0.2420\n",
            "Epoch 185/200\n",
            "4/4 [==============================] - 0s 5ms/step - loss: 0.2421 - mae: 0.2421\n",
            "Epoch 186/200\n",
            "4/4 [==============================] - 0s 4ms/step - loss: 0.2416 - mae: 0.2416\n",
            "Epoch 187/200\n",
            "4/4 [==============================] - 0s 4ms/step - loss: 0.2417 - mae: 0.2417\n",
            "Epoch 188/200\n",
            "4/4 [==============================] - 0s 6ms/step - loss: 0.2415 - mae: 0.2415\n",
            "Epoch 189/200\n",
            "4/4 [==============================] - 0s 5ms/step - loss: 0.2413 - mae: 0.2413\n",
            "Epoch 190/200\n",
            "4/4 [==============================] - 0s 5ms/step - loss: 0.2414 - mae: 0.2414\n",
            "Epoch 191/200\n",
            "4/4 [==============================] - 0s 5ms/step - loss: 0.2414 - mae: 0.2414\n",
            "Epoch 192/200\n",
            "4/4 [==============================] - 0s 5ms/step - loss: 0.2419 - mae: 0.2419\n",
            "Epoch 193/200\n",
            "4/4 [==============================] - 0s 5ms/step - loss: 0.2415 - mae: 0.2415\n",
            "Epoch 194/200\n",
            "4/4 [==============================] - 0s 5ms/step - loss: 0.2415 - mae: 0.2415\n",
            "Epoch 195/200\n",
            "4/4 [==============================] - 0s 4ms/step - loss: 0.2415 - mae: 0.2415\n",
            "Epoch 196/200\n",
            "4/4 [==============================] - 0s 4ms/step - loss: 0.2418 - mae: 0.2418\n",
            "Epoch 197/200\n",
            "4/4 [==============================] - 0s 4ms/step - loss: 0.2419 - mae: 0.2419\n",
            "Epoch 198/200\n",
            "4/4 [==============================] - 0s 5ms/step - loss: 0.2415 - mae: 0.2415\n",
            "Epoch 199/200\n",
            "4/4 [==============================] - 0s 5ms/step - loss: 0.2416 - mae: 0.2416\n",
            "Epoch 200/200\n",
            "4/4 [==============================] - 0s 4ms/step - loss: 0.2424 - mae: 0.2424\n"
          ]
        },
        {
          "output_type": "execute_result",
          "data": {
            "text/plain": [
              "<keras.src.callbacks.History at 0x7e0161c56aa0>"
            ]
          },
          "metadata": {},
          "execution_count": 25
        }
      ]
    },
    {
      "cell_type": "code",
      "source": [
        "model.predict([1.0])"
      ],
      "metadata": {
        "colab": {
          "base_uri": "https://localhost:8080/"
        },
        "id": "qRmMum9UMxul",
        "outputId": "a4dd3ca9-d5f4-4aef-a809-24779f0555f6"
      },
      "execution_count": 10,
      "outputs": [
        {
          "output_type": "stream",
          "name": "stdout",
          "text": [
            "1/1 [==============================] - 0s 120ms/step\n"
          ]
        },
        {
          "output_type": "execute_result",
          "data": {
            "text/plain": [
              "array([[0.6332085]], dtype=float32)"
            ]
          },
          "metadata": {},
          "execution_count": 10
        }
      ]
    },
    {
      "cell_type": "code",
      "source": [
        "X = tf.range(-100,100,4)\n",
        "X"
      ],
      "metadata": {
        "colab": {
          "base_uri": "https://localhost:8080/"
        },
        "id": "bMjaz9ixOxrW",
        "outputId": "abad25c5-8d6f-4e86-c462-3f7a6a947c60"
      },
      "execution_count": 27,
      "outputs": [
        {
          "output_type": "execute_result",
          "data": {
            "text/plain": [
              "<tf.Tensor: shape=(50,), dtype=int32, numpy=\n",
              "array([-100,  -96,  -92,  -88,  -84,  -80,  -76,  -72,  -68,  -64,  -60,\n",
              "        -56,  -52,  -48,  -44,  -40,  -36,  -32,  -28,  -24,  -20,  -16,\n",
              "        -12,   -8,   -4,    0,    4,    8,   12,   16,   20,   24,   28,\n",
              "         32,   36,   40,   44,   48,   52,   56,   60,   64,   68,   72,\n",
              "         76,   80,   84,   88,   92,   96], dtype=int32)>"
            ]
          },
          "metadata": {},
          "execution_count": 27
        }
      ]
    },
    {
      "cell_type": "code",
      "source": [
        "Y = X + 10\n",
        "Y"
      ],
      "metadata": {
        "colab": {
          "base_uri": "https://localhost:8080/"
        },
        "id": "kMeVaRpWbUiK",
        "outputId": "b7090957-bb28-484b-877f-493995648689"
      },
      "execution_count": 30,
      "outputs": [
        {
          "output_type": "execute_result",
          "data": {
            "text/plain": [
              "<tf.Tensor: shape=(50,), dtype=int32, numpy=\n",
              "array([-90, -86, -82, -78, -74, -70, -66, -62, -58, -54, -50, -46, -42,\n",
              "       -38, -34, -30, -26, -22, -18, -14, -10,  -6,  -2,   2,   6,  10,\n",
              "        14,  18,  22,  26,  30,  34,  38,  42,  46,  50,  54,  58,  62,\n",
              "        66,  70,  74,  78,  82,  86,  90,  94,  98, 102, 106], dtype=int32)>"
            ]
          },
          "metadata": {},
          "execution_count": 30
        }
      ]
    },
    {
      "cell_type": "code",
      "source": [
        "import matplotlib.pyplot as plt\n",
        "\n",
        "plt.scatter(X,Y)"
      ],
      "metadata": {
        "colab": {
          "base_uri": "https://localhost:8080/",
          "height": 447
        },
        "id": "I7fOeBkvbb65",
        "outputId": "31686b2e-2277-44bc-bd7f-e37c1699a5e7"
      },
      "execution_count": 33,
      "outputs": [
        {
          "output_type": "execute_result",
          "data": {
            "text/plain": [
              "<matplotlib.collections.PathCollection at 0x7e0160832e90>"
            ]
          },
          "metadata": {},
          "execution_count": 33
        },
        {
          "output_type": "display_data",
          "data": {
            "text/plain": [
              "<Figure size 640x480 with 1 Axes>"
            ],
            "image/png": "[encoded data removed]"
          },
          "metadata": {}
        }
      ]
    },
    {
      "cell_type": "markdown",
      "source": [
        "### The three sets\n",
        "* Training Set - The model learns from this data (70 - 80% of data)\n",
        "* Validation Set -  The model gts tuned on this data, which is typically 10 - 15%\n",
        "* Test Set - The model get evaluated on this data to test what it has learned\n"
      ],
      "metadata": {
        "id": "03V5Ew9jbjih"
      }
    },
    {
      "cell_type": "code",
      "source": [
        "# Check the length of our data\n",
        "len(X)"
      ],
      "metadata": {
        "colab": {
          "base_uri": "https://localhost:8080/"
        },
        "id": "eOThb5PDcIaR",
        "outputId": "09b084de-3cd8-4211-8022-24f5253cd7b3"
      },
      "execution_count": 35,
      "outputs": [
        {
          "output_type": "execute_result",
          "data": {
            "text/plain": [
              "50"
            ]
          },
          "metadata": {},
          "execution_count": 35
        }
      ]
    },
    {
      "cell_type": "code",
      "source": [
        "# Split the data into train and test sets\n",
        "X_train = X[:40]\n",
        "Y_train = Y[:40]\n",
        "X_test = X[40:]\n",
        "Y_test = Y[40:]\n",
        "len(X_train), len(Y_train)"
      ],
      "metadata": {
        "colab": {
          "base_uri": "https://localhost:8080/"
        },
        "id": "DtaE6pRhdK6c",
        "outputId": "3a4dca7b-8e42-467f-978e-7d3bfa254d45"
      },
      "execution_count": 36,
      "outputs": [
        {
          "output_type": "execute_result",
          "data": {
            "text/plain": [
              "(40, 40)"
            ]
          },
          "metadata": {},
          "execution_count": 36
        }
      ]
    },
    {
      "cell_type": "markdown",
      "source": [
        "#Visualising the data\n",
        "Visualise the training and test data"
      ],
      "metadata": {
        "id": "2FzMKWEHdyfQ"
      }
    },
    {
      "cell_type": "code",
      "source": [
        "plt.figure(figsize=(10,7))\n",
        "plt.scatter(X_train,Y_train,c=\"b\",label=\"Training Data\")\n",
        "plt.scatter(X_test,Y_test,c=\"g\",label=\"Testing Data\")\n",
        "plt.legend()\n"
      ],
      "metadata": {
        "colab": {
          "base_uri": "https://localhost:8080/",
          "height": 616
        },
        "id": "Ksx1J_XgeBjL",
        "outputId": "3265c0c6-9a38-4ce8-cdc0-14f9e69cdbbb"
      },
      "execution_count": 38,
      "outputs": [
        {
          "output_type": "execute_result",
          "data": {
            "text/plain": [
              "<matplotlib.legend.Legend at 0x7e015bdcbcd0>"
            ]
          },
          "metadata": {},
          "execution_count": 38
        },
        {
          "output_type": "display_data",
          "data": {
            "text/plain": [
              "<Figure size 1000x700 with 1 Axes>"
            ],
            "image/png": "[encoded data removed]"
          },
          "metadata": {}
        }
      ]
    },
    {
      "cell_type": "code",
      "source": [
        "model = tf.keras.Sequential([\n",
        "    tf.keras.layers.Dense(1)\n",
        "])\n",
        "\n",
        "model.compile(loss = tf.keras.losses.mae,\n",
        "              optimizer = tf.keras.optimizers.SGD(),\n",
        "              metrics=[\"mae\"])\n",
        "\n",
        "#model.fit(tf.expand_dims(X_train,axis=-1),Y_train)\n"
      ],
      "metadata": {
        "id": "dntOJ52Mee1J"
      },
      "execution_count": 39,
      "outputs": []
    },
    {
      "cell_type": "code",
      "source": [
        "# Visualizing the model\n",
        "model.summary()"
      ],
      "metadata": {
        "colab": {
          "base_uri": "https://localhost:8080/",
          "height": 314
        },
        "id": "btTuuGkwfwqn",
        "outputId": "a157c7b2-c715-49b3-b295-b5be90bfa72f"
      },
      "execution_count": 40,
      "outputs": [
        {
          "output_type": "error",
          "ename": "ValueError",
          "evalue": "ignored",
          "traceback": [
            "\u001b[0;31m---------------------------------------------------------------------------\u001b[0m",
            "\u001b[0;31mValueError\u001b[0m                                Traceback (most recent call last)",
            "\u001b[0;32m<ipython-input-40-16bf0c5fe650>\u001b[0m in \u001b[0;36m<cell line: 2>\u001b[0;34m()\u001b[0m\n\u001b[1;32m      1\u001b[0m \u001b[0;31m# Visualizing the model\u001b[0m\u001b[0;34m\u001b[0m\u001b[0;34m\u001b[0m\u001b[0m\n\u001b[0;32m----> 2\u001b[0;31m \u001b[0mmodel\u001b[0m\u001b[0;34m.\u001b[0m\u001b[0msummary\u001b[0m\u001b[0;34m(\u001b[0m\u001b[0;34m)\u001b[0m\u001b[0;34m\u001b[0m\u001b[0;34m\u001b[0m\u001b[0m\n\u001b[0m",
            "\u001b[0;32m/usr/local/lib/python3.10/dist-packages/keras/src/engine/training.py\u001b[0m in \u001b[0;36msummary\u001b[0;34m(self, line_length, positions, print_fn, expand_nested, show_trainable, layer_range)\u001b[0m\n\u001b[1;32m   3504\u001b[0m         \"\"\"\n\u001b[1;32m   3505\u001b[0m         \u001b[0;32mif\u001b[0m \u001b[0;32mnot\u001b[0m \u001b[0mself\u001b[0m\u001b[0;34m.\u001b[0m\u001b[0mbuilt\u001b[0m\u001b[0;34m:\u001b[0m\u001b[0;34m\u001b[0m\u001b[0;34m\u001b[0m\u001b[0m\n\u001b[0;32m-> 3506\u001b[0;31m             raise ValueError(\n\u001b[0m\u001b[1;32m   3507\u001b[0m                 \u001b[0;34m\"This model has not yet been built. \"\u001b[0m\u001b[0;34m\u001b[0m\u001b[0;34m\u001b[0m\u001b[0m\n\u001b[1;32m   3508\u001b[0m                 \u001b[0;34m\"Build the model first by calling `build()` or by calling \"\u001b[0m\u001b[0;34m\u001b[0m\u001b[0;34m\u001b[0m\u001b[0m\n",
            "\u001b[0;31mValueError\u001b[0m: This model has not yet been built. Build the model first by calling `build()` or by calling the model on a batch of data."
          ]
        }
      ]
    },
    {
      "cell_type": "code",
      "source": [
        "# Let's create a model automatically in the first layer\n",
        "tf.random.set_seed(42)\n",
        "\n",
        "model = tf.keras.Sequential([\n",
        "    tf.keras.layers.Dense(5, input_shape =[1],name=\"input_layer\"),\n",
        "    tf.keras.layers.Dense(1,name=\"output_layer\")\n",
        "])\n",
        "\n",
        "model.compile(loss=tf.keras.losses.mae,\n",
        "              optimizer=tf.keras.optimizers.Adam(learning_rate=0.01),\n",
        "              metrics=[\"mae\"])"
      ],
      "metadata": {
        "id": "BzgxIWZygARR"
      },
      "execution_count": 123,
      "outputs": []
    },
    {
      "cell_type": "code",
      "source": [
        "model.summary()"
      ],
      "metadata": {
        "colab": {
          "base_uri": "https://localhost:8080/"
        },
        "id": "EaP48PbQgp6K",
        "outputId": "24c3af91-3e89-4781-b31e-a60324a0dde1"
      },
      "execution_count": 86,
      "outputs": [
        {
          "output_type": "stream",
          "name": "stdout",
          "text": [
            "Model: \"sequential_23\"\n",
            "_________________________________________________________________\n",
            " Layer (type)                Output Shape              Param #   \n",
            "=================================================================\n",
            " input_layer (Dense)         (None, 5)                 10        \n",
            "                                                                 \n",
            " output_layer (Dense)        (None, 1)                 6         \n",
            "                                                                 \n",
            "=================================================================\n",
            "Total params: 16 (64.00 Byte)\n",
            "Trainable params: 16 (64.00 Byte)\n",
            "Non-trainable params: 0 (0.00 Byte)\n",
            "_________________________________________________________________\n"
          ]
        }
      ]
    },
    {
      "cell_type": "markdown",
      "source": [
        "Total params: 2 (8.00 Byte) = Total Number of parameters\n",
        "\n",
        "Trainable params: 2 (8.00 Byte) - These are the parameters (patterns) the model can update as it trains\n",
        "\n",
        "Non-trainable params: 0 (0.00 Byte) - not updated during training when We bring already lmearn patterns or parameters from other models (transfer learning)"
      ],
      "metadata": {
        "id": "VXw4yV2Qg6H6"
      }
    },
    {
      "cell_type": "code",
      "source": [
        "model.fit(tf.expand_dims(X_train,axis=-1),Y_train, epochs=200,verbose=1)"
      ],
      "metadata": {
        "colab": {
          "base_uri": "https://localhost:8080/"
        },
        "id": "gv8R0WrWgri8",
        "outputId": "71bce9b2-8be1-46c0-9ad1-3f99426973b6"
      },
      "execution_count": 124,
      "outputs": [
        {
          "output_type": "stream",
          "name": "stdout",
          "text": [
            "Epoch 1/200\n",
            "2/2 [==============================] - 1s 11ms/step - loss: 68.3116 - mae: 68.3116\n",
            "Epoch 2/200\n",
            "2/2 [==============================] - 0s 8ms/step - loss: 62.6346 - mae: 62.6346\n",
            "Epoch 3/200\n",
            "2/2 [==============================] - 0s 7ms/step - loss: 57.1719 - mae: 57.1719\n",
            "Epoch 4/200\n",
            "2/2 [==============================] - 0s 7ms/step - loss: 51.6113 - mae: 51.6113\n",
            "Epoch 5/200\n",
            "2/2 [==============================] - 0s 14ms/step - loss: 46.1749 - mae: 46.1749\n",
            "Epoch 6/200\n",
            "2/2 [==============================] - 0s 7ms/step - loss: 40.6524 - mae: 40.6524\n",
            "Epoch 7/200\n",
            "2/2 [==============================] - 0s 8ms/step - loss: 35.0376 - mae: 35.0376\n",
            "Epoch 8/200\n",
            "2/2 [==============================] - 0s 7ms/step - loss: 29.2636 - mae: 29.2636\n",
            "Epoch 9/200\n",
            "2/2 [==============================] - 0s 8ms/step - loss: 23.8672 - mae: 23.8672\n",
            "Epoch 10/200\n",
            "2/2 [==============================] - 0s 7ms/step - loss: 18.6032 - mae: 18.6032\n",
            "Epoch 11/200\n",
            "2/2 [==============================] - 0s 7ms/step - loss: 13.3009 - mae: 13.3009\n",
            "Epoch 12/200\n",
            "2/2 [==============================] - 0s 7ms/step - loss: 9.0750 - mae: 9.0750\n",
            "Epoch 13/200\n",
            "2/2 [==============================] - 0s 7ms/step - loss: 9.2178 - mae: 9.2178\n",
            "Epoch 14/200\n",
            "2/2 [==============================] - 0s 8ms/step - loss: 10.9642 - mae: 10.9642\n",
            "Epoch 15/200\n",
            "2/2 [==============================] - 0s 8ms/step - loss: 11.9420 - mae: 11.9420\n",
            "Epoch 16/200\n",
            "2/2 [==============================] - 0s 8ms/step - loss: 12.4018 - mae: 12.4018\n",
            "Epoch 17/200\n",
            "2/2 [==============================] - 0s 7ms/step - loss: 12.3624 - mae: 12.3624\n",
            "Epoch 18/200\n",
            "2/2 [==============================] - 0s 9ms/step - loss: 11.8921 - mae: 11.8921\n",
            "Epoch 19/200\n",
            "2/2 [==============================] - 0s 7ms/step - loss: 11.1553 - mae: 11.1553\n",
            "Epoch 20/200\n",
            "2/2 [==============================] - 0s 7ms/step - loss: 10.0916 - mae: 10.0916\n",
            "Epoch 21/200\n",
            "2/2 [==============================] - 0s 7ms/step - loss: 8.7228 - mae: 8.7228\n",
            "Epoch 22/200\n",
            "2/2 [==============================] - 0s 7ms/step - loss: 7.5392 - mae: 7.5392\n",
            "Epoch 23/200\n",
            "2/2 [==============================] - 0s 7ms/step - loss: 7.7848 - mae: 7.7848\n",
            "Epoch 24/200\n",
            "2/2 [==============================] - 0s 8ms/step - loss: 8.6246 - mae: 8.6246\n",
            "Epoch 25/200\n",
            "2/2 [==============================] - 0s 7ms/step - loss: 8.7423 - mae: 8.7423\n",
            "Epoch 26/200\n",
            "2/2 [==============================] - 0s 8ms/step - loss: 8.1385 - mae: 8.1385\n",
            "Epoch 27/200\n",
            "2/2 [==============================] - 0s 7ms/step - loss: 7.3267 - mae: 7.3267\n",
            "Epoch 28/200\n",
            "2/2 [==============================] - 0s 7ms/step - loss: 6.9163 - mae: 6.9163\n",
            "Epoch 29/200\n",
            "2/2 [==============================] - 0s 7ms/step - loss: 7.2775 - mae: 7.2775\n",
            "Epoch 30/200\n",
            "2/2 [==============================] - 0s 7ms/step - loss: 7.0772 - mae: 7.0772\n",
            "Epoch 31/200\n",
            "2/2 [==============================] - 0s 7ms/step - loss: 6.5331 - mae: 6.5331\n",
            "Epoch 32/200\n",
            "2/2 [==============================] - 0s 11ms/step - loss: 6.9359 - mae: 6.9359\n",
            "Epoch 33/200\n",
            "2/2 [==============================] - 0s 7ms/step - loss: 7.3765 - mae: 7.3765\n",
            "Epoch 34/200\n",
            "2/2 [==============================] - 0s 8ms/step - loss: 7.2936 - mae: 7.2936\n",
            "Epoch 35/200\n",
            "2/2 [==============================] - 0s 7ms/step - loss: 6.8215 - mae: 6.8215\n",
            "Epoch 36/200\n",
            "2/2 [==============================] - 0s 7ms/step - loss: 6.3206 - mae: 6.3206\n",
            "Epoch 37/200\n",
            "2/2 [==============================] - 0s 7ms/step - loss: 6.1846 - mae: 6.1846\n",
            "Epoch 38/200\n",
            "2/2 [==============================] - 0s 7ms/step - loss: 6.2258 - mae: 6.2258\n",
            "Epoch 39/200\n",
            "2/2 [==============================] - 0s 7ms/step - loss: 6.0055 - mae: 6.0055\n",
            "Epoch 40/200\n",
            "2/2 [==============================] - 0s 7ms/step - loss: 5.9886 - mae: 5.9886\n",
            "Epoch 41/200\n",
            "2/2 [==============================] - 0s 7ms/step - loss: 6.0116 - mae: 6.0116\n",
            "Epoch 42/200\n",
            "2/2 [==============================] - 0s 7ms/step - loss: 5.8594 - mae: 5.8594\n",
            "Epoch 43/200\n",
            "2/2 [==============================] - 0s 6ms/step - loss: 5.6659 - mae: 5.6659\n",
            "Epoch 44/200\n",
            "2/2 [==============================] - 0s 7ms/step - loss: 5.6820 - mae: 5.6820\n",
            "Epoch 45/200\n",
            "2/2 [==============================] - 0s 11ms/step - loss: 5.5418 - mae: 5.5418\n",
            "Epoch 46/200\n",
            "2/2 [==============================] - 0s 7ms/step - loss: 5.4136 - mae: 5.4136\n",
            "Epoch 47/200\n",
            "2/2 [==============================] - 0s 7ms/step - loss: 5.5409 - mae: 5.5409\n",
            "Epoch 48/200\n",
            "2/2 [==============================] - 0s 7ms/step - loss: 5.4934 - mae: 5.4934\n",
            "Epoch 49/200\n",
            "2/2 [==============================] - 0s 8ms/step - loss: 5.2565 - mae: 5.2565\n",
            "Epoch 50/200\n",
            "2/2 [==============================] - 0s 8ms/step - loss: 5.0803 - mae: 5.0803\n",
            "Epoch 51/200\n",
            "2/2 [==============================] - 0s 8ms/step - loss: 5.0170 - mae: 5.0170\n",
            "Epoch 52/200\n",
            "2/2 [==============================] - 0s 7ms/step - loss: 4.9145 - mae: 4.9145\n",
            "Epoch 53/200\n",
            "2/2 [==============================] - 0s 7ms/step - loss: 4.8372 - mae: 4.8372\n",
            "Epoch 54/200\n",
            "2/2 [==============================] - 0s 7ms/step - loss: 4.7934 - mae: 4.7934\n",
            "Epoch 55/200\n",
            "2/2 [==============================] - 0s 7ms/step - loss: 4.6756 - mae: 4.6756\n",
            "Epoch 56/200\n",
            "2/2 [==============================] - 0s 7ms/step - loss: 4.6029 - mae: 4.6029\n",
            "Epoch 57/200\n",
            "2/2 [==============================] - 0s 7ms/step - loss: 4.5258 - mae: 4.5258\n",
            "Epoch 58/200\n",
            "2/2 [==============================] - 0s 8ms/step - loss: 4.4260 - mae: 4.4260\n",
            "Epoch 59/200\n",
            "2/2 [==============================] - 0s 7ms/step - loss: 4.3201 - mae: 4.3201\n",
            "Epoch 60/200\n",
            "2/2 [==============================] - 0s 7ms/step - loss: 4.2786 - mae: 4.2786\n",
            "Epoch 61/200\n",
            "2/2 [==============================] - 0s 8ms/step - loss: 4.2014 - mae: 4.2014\n",
            "Epoch 62/200\n",
            "2/2 [==============================] - 0s 7ms/step - loss: 4.0800 - mae: 4.0800\n",
            "Epoch 63/200\n",
            "2/2 [==============================] - 0s 8ms/step - loss: 4.0128 - mae: 4.0128\n",
            "Epoch 64/200\n",
            "2/2 [==============================] - 0s 8ms/step - loss: 3.9465 - mae: 3.9465\n",
            "Epoch 65/200\n",
            "2/2 [==============================] - 0s 8ms/step - loss: 3.8641 - mae: 3.8641\n",
            "Epoch 66/200\n",
            "2/2 [==============================] - 0s 7ms/step - loss: 3.7387 - mae: 3.7387\n",
            "Epoch 67/200\n",
            "2/2 [==============================] - 0s 7ms/step - loss: 3.6849 - mae: 3.6849\n",
            "Epoch 68/200\n",
            "2/2 [==============================] - 0s 7ms/step - loss: 3.5891 - mae: 3.5891\n",
            "Epoch 69/200\n",
            "2/2 [==============================] - 0s 7ms/step - loss: 3.5572 - mae: 3.5572\n",
            "Epoch 70/200\n",
            "2/2 [==============================] - 0s 7ms/step - loss: 3.3387 - mae: 3.3387\n",
            "Epoch 71/200\n",
            "2/2 [==============================] - 0s 8ms/step - loss: 3.3425 - mae: 3.3425\n",
            "Epoch 72/200\n",
            "2/2 [==============================] - 0s 7ms/step - loss: 3.3257 - mae: 3.3257\n",
            "Epoch 73/200\n",
            "2/2 [==============================] - 0s 7ms/step - loss: 3.1470 - mae: 3.1470\n",
            "Epoch 74/200\n",
            "2/2 [==============================] - 0s 8ms/step - loss: 3.0911 - mae: 3.0911\n",
            "Epoch 75/200\n",
            "2/2 [==============================] - 0s 7ms/step - loss: 2.9224 - mae: 2.9224\n",
            "Epoch 76/200\n",
            "2/2 [==============================] - 0s 7ms/step - loss: 2.8015 - mae: 2.8015\n",
            "Epoch 77/200\n",
            "2/2 [==============================] - 0s 7ms/step - loss: 2.7190 - mae: 2.7190\n",
            "Epoch 78/200\n",
            "2/2 [==============================] - 0s 7ms/step - loss: 2.6091 - mae: 2.6091\n",
            "Epoch 79/200\n",
            "2/2 [==============================] - 0s 8ms/step - loss: 2.5555 - mae: 2.5555\n",
            "Epoch 80/200\n",
            "2/2 [==============================] - 0s 7ms/step - loss: 2.4380 - mae: 2.4380\n",
            "Epoch 81/200\n",
            "2/2 [==============================] - 0s 7ms/step - loss: 2.3987 - mae: 2.3987\n",
            "Epoch 82/200\n",
            "2/2 [==============================] - 0s 7ms/step - loss: 2.2604 - mae: 2.2604\n",
            "Epoch 83/200\n",
            "2/2 [==============================] - 0s 7ms/step - loss: 2.1962 - mae: 2.1962\n",
            "Epoch 84/200\n",
            "2/2 [==============================] - 0s 12ms/step - loss: 2.0516 - mae: 2.0516\n",
            "Epoch 85/200\n",
            "2/2 [==============================] - 0s 10ms/step - loss: 1.9573 - mae: 1.9573\n",
            "Epoch 86/200\n",
            "2/2 [==============================] - 0s 8ms/step - loss: 1.8911 - mae: 1.8911\n",
            "Epoch 87/200\n",
            "2/2 [==============================] - 0s 8ms/step - loss: 1.7032 - mae: 1.7032\n",
            "Epoch 88/200\n",
            "2/2 [==============================] - 0s 7ms/step - loss: 1.6974 - mae: 1.6974\n",
            "Epoch 89/200\n",
            "2/2 [==============================] - 0s 7ms/step - loss: 1.5461 - mae: 1.5461\n",
            "Epoch 90/200\n",
            "2/2 [==============================] - 0s 7ms/step - loss: 1.5057 - mae: 1.5057\n",
            "Epoch 91/200\n",
            "2/2 [==============================] - 0s 8ms/step - loss: 1.3716 - mae: 1.3716\n",
            "Epoch 92/200\n",
            "2/2 [==============================] - 0s 7ms/step - loss: 1.3025 - mae: 1.3025\n",
            "Epoch 93/200\n",
            "2/2 [==============================] - 0s 7ms/step - loss: 1.1375 - mae: 1.1375\n",
            "Epoch 94/200\n",
            "2/2 [==============================] - 0s 7ms/step - loss: 1.0304 - mae: 1.0304\n",
            "Epoch 95/200\n",
            "2/2 [==============================] - 0s 7ms/step - loss: 0.9762 - mae: 0.9762\n",
            "Epoch 96/200\n",
            "2/2 [==============================] - 0s 10ms/step - loss: 0.8075 - mae: 0.8075\n",
            "Epoch 97/200\n",
            "2/2 [==============================] - 0s 8ms/step - loss: 0.8451 - mae: 0.8451\n",
            "Epoch 98/200\n",
            "2/2 [==============================] - 0s 7ms/step - loss: 0.6299 - mae: 0.6299\n",
            "Epoch 99/200\n",
            "2/2 [==============================] - 0s 6ms/step - loss: 0.5240 - mae: 0.5240\n",
            "Epoch 100/200\n",
            "2/2 [==============================] - 0s 8ms/step - loss: 0.4080 - mae: 0.4080\n",
            "Epoch 101/200\n",
            "2/2 [==============================] - 0s 8ms/step - loss: 0.3612 - mae: 0.3612\n",
            "Epoch 102/200\n",
            "2/2 [==============================] - 0s 7ms/step - loss: 0.2202 - mae: 0.2202\n",
            "Epoch 103/200\n",
            "2/2 [==============================] - 0s 12ms/step - loss: 0.1909 - mae: 0.1909\n",
            "Epoch 104/200\n",
            "2/2 [==============================] - 0s 8ms/step - loss: 0.1852 - mae: 0.1852\n",
            "Epoch 105/200\n",
            "2/2 [==============================] - 0s 8ms/step - loss: 0.2158 - mae: 0.2158\n",
            "Epoch 106/200\n",
            "2/2 [==============================] - 0s 8ms/step - loss: 0.2305 - mae: 0.2305\n",
            "Epoch 107/200\n",
            "2/2 [==============================] - 0s 8ms/step - loss: 0.2113 - mae: 0.2113\n",
            "Epoch 108/200\n",
            "2/2 [==============================] - 0s 8ms/step - loss: 0.3747 - mae: 0.3747\n",
            "Epoch 109/200\n",
            "2/2 [==============================] - 0s 7ms/step - loss: 0.4382 - mae: 0.4382\n",
            "Epoch 110/200\n",
            "2/2 [==============================] - 0s 10ms/step - loss: 0.1459 - mae: 0.1459\n",
            "Epoch 111/200\n",
            "2/2 [==============================] - 0s 7ms/step - loss: 0.2467 - mae: 0.2467\n",
            "Epoch 112/200\n",
            "2/2 [==============================] - 0s 7ms/step - loss: 0.1954 - mae: 0.1954\n",
            "Epoch 113/200\n",
            "2/2 [==============================] - 0s 7ms/step - loss: 0.1994 - mae: 0.1994\n",
            "Epoch 114/200\n",
            "2/2 [==============================] - 0s 7ms/step - loss: 0.8630 - mae: 0.8630\n",
            "Epoch 115/200\n",
            "2/2 [==============================] - 0s 7ms/step - loss: 0.5494 - mae: 0.5494\n",
            "Epoch 116/200\n",
            "2/2 [==============================] - 0s 7ms/step - loss: 0.4000 - mae: 0.4000\n",
            "Epoch 117/200\n",
            "2/2 [==============================] - 0s 7ms/step - loss: 0.3969 - mae: 0.3969\n",
            "Epoch 118/200\n",
            "2/2 [==============================] - 0s 7ms/step - loss: 0.3257 - mae: 0.3257\n",
            "Epoch 119/200\n",
            "2/2 [==============================] - 0s 7ms/step - loss: 0.1372 - mae: 0.1372\n",
            "Epoch 120/200\n",
            "2/2 [==============================] - 0s 7ms/step - loss: 0.7117 - mae: 0.7117\n",
            "Epoch 121/200\n",
            "2/2 [==============================] - 0s 7ms/step - loss: 0.4397 - mae: 0.4397\n",
            "Epoch 122/200\n",
            "2/2 [==============================] - 0s 8ms/step - loss: 0.2365 - mae: 0.2365\n",
            "Epoch 123/200\n",
            "2/2 [==============================] - 0s 7ms/step - loss: 0.0584 - mae: 0.0584\n",
            "Epoch 124/200\n",
            "2/2 [==============================] - 0s 7ms/step - loss: 0.2984 - mae: 0.2984\n",
            "Epoch 125/200\n",
            "2/2 [==============================] - 0s 7ms/step - loss: 0.5257 - mae: 0.5257\n",
            "Epoch 126/200\n",
            "2/2 [==============================] - 0s 7ms/step - loss: 0.2755 - mae: 0.2755\n",
            "Epoch 127/200\n",
            "2/2 [==============================] - 0s 7ms/step - loss: 0.9252 - mae: 0.9252\n",
            "Epoch 128/200\n",
            "2/2 [==============================] - 0s 7ms/step - loss: 0.1295 - mae: 0.1295\n",
            "Epoch 129/200\n",
            "2/2 [==============================] - 0s 7ms/step - loss: 0.3301 - mae: 0.3301\n",
            "Epoch 130/200\n",
            "2/2 [==============================] - 0s 7ms/step - loss: 0.2658 - mae: 0.2658\n",
            "Epoch 131/200\n",
            "2/2 [==============================] - 0s 7ms/step - loss: 0.1411 - mae: 0.1411\n",
            "Epoch 132/200\n",
            "2/2 [==============================] - 0s 7ms/step - loss: 0.5096 - mae: 0.5096\n",
            "Epoch 133/200\n",
            "2/2 [==============================] - 0s 7ms/step - loss: 0.7285 - mae: 0.7285\n",
            "Epoch 134/200\n",
            "2/2 [==============================] - 0s 7ms/step - loss: 0.5530 - mae: 0.5530\n",
            "Epoch 135/200\n",
            "2/2 [==============================] - 0s 7ms/step - loss: 0.3814 - mae: 0.3814\n",
            "Epoch 136/200\n",
            "2/2 [==============================] - 0s 7ms/step - loss: 0.4227 - mae: 0.4227\n",
            "Epoch 137/200\n",
            "2/2 [==============================] - 0s 7ms/step - loss: 0.1978 - mae: 0.1978\n",
            "Epoch 138/200\n",
            "2/2 [==============================] - 0s 8ms/step - loss: 0.9084 - mae: 0.9084\n",
            "Epoch 139/200\n",
            "2/2 [==============================] - 0s 9ms/step - loss: 0.2588 - mae: 0.2588\n",
            "Epoch 140/200\n",
            "2/2 [==============================] - 0s 9ms/step - loss: 1.3082 - mae: 1.3082\n",
            "Epoch 141/200\n",
            "2/2 [==============================] - 0s 7ms/step - loss: 0.5410 - mae: 0.5410\n",
            "Epoch 142/200\n",
            "2/2 [==============================] - 0s 7ms/step - loss: 0.5742 - mae: 0.5742\n",
            "Epoch 143/200\n",
            "2/2 [==============================] - 0s 8ms/step - loss: 0.3699 - mae: 0.3699\n",
            "Epoch 144/200\n",
            "2/2 [==============================] - 0s 8ms/step - loss: 0.3203 - mae: 0.3203\n",
            "Epoch 145/200\n",
            "2/2 [==============================] - 0s 8ms/step - loss: 0.2720 - mae: 0.2720\n",
            "Epoch 146/200\n",
            "2/2 [==============================] - 0s 8ms/step - loss: 0.1939 - mae: 0.1939\n",
            "Epoch 147/200\n",
            "2/2 [==============================] - 0s 11ms/step - loss: 0.4238 - mae: 0.4238\n",
            "Epoch 148/200\n",
            "2/2 [==============================] - 0s 7ms/step - loss: 0.5190 - mae: 0.5190\n",
            "Epoch 149/200\n",
            "2/2 [==============================] - 0s 6ms/step - loss: 0.3902 - mae: 0.3902\n",
            "Epoch 150/200\n",
            "2/2 [==============================] - 0s 9ms/step - loss: 0.4405 - mae: 0.4405\n",
            "Epoch 151/200\n",
            "2/2 [==============================] - 0s 7ms/step - loss: 0.4741 - mae: 0.4741\n",
            "Epoch 152/200\n",
            "2/2 [==============================] - 0s 7ms/step - loss: 0.3448 - mae: 0.3448\n",
            "Epoch 153/200\n",
            "2/2 [==============================] - 0s 7ms/step - loss: 0.3248 - mae: 0.3248\n",
            "Epoch 154/200\n",
            "2/2 [==============================] - 0s 7ms/step - loss: 0.4489 - mae: 0.4489\n",
            "Epoch 155/200\n",
            "2/2 [==============================] - 0s 7ms/step - loss: 0.1149 - mae: 0.1149\n",
            "Epoch 156/200\n",
            "2/2 [==============================] - 0s 7ms/step - loss: 0.3877 - mae: 0.3877\n",
            "Epoch 157/200\n",
            "2/2 [==============================] - 0s 7ms/step - loss: 0.0882 - mae: 0.0882\n",
            "Epoch 158/200\n",
            "2/2 [==============================] - 0s 7ms/step - loss: 0.2587 - mae: 0.2587\n",
            "Epoch 159/200\n",
            "2/2 [==============================] - 0s 8ms/step - loss: 0.2436 - mae: 0.2436\n",
            "Epoch 160/200\n",
            "2/2 [==============================] - 0s 9ms/step - loss: 0.3326 - mae: 0.3326\n",
            "Epoch 161/200\n",
            "2/2 [==============================] - 0s 12ms/step - loss: 0.0351 - mae: 0.0351\n",
            "Epoch 162/200\n",
            "2/2 [==============================] - 0s 7ms/step - loss: 0.4813 - mae: 0.4813\n",
            "Epoch 163/200\n",
            "2/2 [==============================] - 0s 7ms/step - loss: 0.2212 - mae: 0.2212\n",
            "Epoch 164/200\n",
            "2/2 [==============================] - 0s 7ms/step - loss: 1.0225 - mae: 1.0225\n",
            "Epoch 165/200\n",
            "2/2 [==============================] - 0s 8ms/step - loss: 0.3884 - mae: 0.3884\n",
            "Epoch 166/200\n",
            "2/2 [==============================] - 0s 7ms/step - loss: 0.6792 - mae: 0.6792\n",
            "Epoch 167/200\n",
            "2/2 [==============================] - 0s 7ms/step - loss: 0.0871 - mae: 0.0871\n",
            "Epoch 168/200\n",
            "2/2 [==============================] - 0s 7ms/step - loss: 0.0791 - mae: 0.0791\n",
            "Epoch 169/200\n",
            "2/2 [==============================] - 0s 6ms/step - loss: 0.3188 - mae: 0.3188\n",
            "Epoch 170/200\n",
            "2/2 [==============================] - 0s 7ms/step - loss: 0.1743 - mae: 0.1743\n",
            "Epoch 171/200\n",
            "2/2 [==============================] - 0s 7ms/step - loss: 0.3319 - mae: 0.3319\n",
            "Epoch 172/200\n",
            "2/2 [==============================] - 0s 7ms/step - loss: 0.1158 - mae: 0.1158\n",
            "Epoch 173/200\n",
            "2/2 [==============================] - 0s 6ms/step - loss: 0.2817 - mae: 0.2817\n",
            "Epoch 174/200\n",
            "2/2 [==============================] - 0s 7ms/step - loss: 0.1320 - mae: 0.1320\n",
            "Epoch 175/200\n",
            "2/2 [==============================] - 0s 8ms/step - loss: 0.4527 - mae: 0.4527\n",
            "Epoch 176/200\n",
            "2/2 [==============================] - 0s 7ms/step - loss: 0.2504 - mae: 0.2504\n",
            "Epoch 177/200\n",
            "2/2 [==============================] - 0s 12ms/step - loss: 0.8367 - mae: 0.8367\n",
            "Epoch 178/200\n",
            "2/2 [==============================] - 0s 8ms/step - loss: 0.3269 - mae: 0.3269\n",
            "Epoch 179/200\n",
            "2/2 [==============================] - 0s 8ms/step - loss: 1.0473 - mae: 1.0473\n",
            "Epoch 180/200\n",
            "2/2 [==============================] - 0s 8ms/step - loss: 0.6222 - mae: 0.6222\n",
            "Epoch 181/200\n",
            "2/2 [==============================] - 0s 7ms/step - loss: 0.9769 - mae: 0.9769\n",
            "Epoch 182/200\n",
            "2/2 [==============================] - 0s 7ms/step - loss: 1.3166 - mae: 1.3166\n",
            "Epoch 183/200\n",
            "2/2 [==============================] - 0s 13ms/step - loss: 0.4145 - mae: 0.4145\n",
            "Epoch 184/200\n",
            "2/2 [==============================] - 0s 7ms/step - loss: 0.9982 - mae: 0.9982\n",
            "Epoch 185/200\n",
            "2/2 [==============================] - 0s 13ms/step - loss: 0.4101 - mae: 0.4101\n",
            "Epoch 186/200\n",
            "2/2 [==============================] - 0s 8ms/step - loss: 0.6554 - mae: 0.6554\n",
            "Epoch 187/200\n",
            "2/2 [==============================] - 0s 7ms/step - loss: 0.2274 - mae: 0.2274\n",
            "Epoch 188/200\n",
            "2/2 [==============================] - 0s 7ms/step - loss: 0.9317 - mae: 0.9317\n",
            "Epoch 189/200\n",
            "2/2 [==============================] - 0s 8ms/step - loss: 0.3373 - mae: 0.3373\n",
            "Epoch 190/200\n",
            "2/2 [==============================] - 0s 7ms/step - loss: 0.8040 - mae: 0.8040\n",
            "Epoch 191/200\n",
            "2/2 [==============================] - 0s 7ms/step - loss: 0.3094 - mae: 0.3094\n",
            "Epoch 192/200\n",
            "2/2 [==============================] - 0s 7ms/step - loss: 0.9688 - mae: 0.9688\n",
            "Epoch 193/200\n",
            "2/2 [==============================] - 0s 8ms/step - loss: 0.4649 - mae: 0.4649\n",
            "Epoch 194/200\n",
            "2/2 [==============================] - 0s 7ms/step - loss: 0.8575 - mae: 0.8575\n",
            "Epoch 195/200\n",
            "2/2 [==============================] - 0s 7ms/step - loss: 0.4627 - mae: 0.4627\n",
            "Epoch 196/200\n",
            "2/2 [==============================] - 0s 7ms/step - loss: 0.2741 - mae: 0.2741\n",
            "Epoch 197/200\n",
            "2/2 [==============================] - 0s 7ms/step - loss: 0.2911 - mae: 0.2911\n",
            "Epoch 198/200\n",
            "2/2 [==============================] - 0s 8ms/step - loss: 0.1410 - mae: 0.1410\n",
            "Epoch 199/200\n",
            "2/2 [==============================] - 0s 7ms/step - loss: 0.2960 - mae: 0.2960\n",
            "Epoch 200/200\n",
            "2/2 [==============================] - 0s 8ms/step - loss: 0.1127 - mae: 0.1127\n"
          ]
        },
        {
          "output_type": "execute_result",
          "data": {
            "text/plain": [
              "<keras.src.callbacks.History at 0x7e015fbf4fa0>"
            ]
          },
          "metadata": {},
          "execution_count": 124
        }
      ]
    },
    {
      "cell_type": "code",
      "source": [
        "# Get a siùùary of our model\n",
        "model.summary()"
      ],
      "metadata": {
        "colab": {
          "base_uri": "https://localhost:8080/"
        },
        "id": "_5aCxxXIiz5h",
        "outputId": "5df6907e-bfab-457f-f2b9-0cc6d8be53c6"
      },
      "execution_count": 107,
      "outputs": [
        {
          "output_type": "stream",
          "name": "stdout",
          "text": [
            "Model: \"sequential_27\"\n",
            "_________________________________________________________________\n",
            " Layer (type)                Output Shape              Param #   \n",
            "=================================================================\n",
            " input_layer (Dense)         (None, 10)                20        \n",
            "                                                                 \n",
            " output_layer (Dense)        (None, 1)                 11        \n",
            "                                                                 \n",
            "=================================================================\n",
            "Total params: 31 (124.00 Byte)\n",
            "Trainable params: 31 (124.00 Byte)\n",
            "Non-trainable params: 0 (0.00 Byte)\n",
            "_________________________________________________________________\n"
          ]
        }
      ]
    },
    {
      "cell_type": "code",
      "source": [
        "from tensorflow.keras.utils import plot_model\n",
        "\n",
        "plot_model(model=model,show_shapes=True)"
      ],
      "metadata": {
        "colab": {
          "base_uri": "https://localhost:8080/",
          "height": 312
        },
        "id": "m0ceOK8cjOpL",
        "outputId": "e8d66970-8e6e-4846-908a-30250be32841"
      },
      "execution_count": 95,
      "outputs": [
        {
          "output_type": "execute_result",
          "data": {
            "image/png": "[encoded data removed]",
            "text/plain": [
              "<IPython.core.display.Image object>"
            ]
          },
          "metadata": {},
          "execution_count": 95
        }
      ]
    },
    {
      "cell_type": "markdown",
      "source": [
        "### Visualize prediction\n",
        "To visualize we can have y_test vs y_pred (ground truth vs model's prediction)"
      ],
      "metadata": {
        "id": "R-lJoGDyjr3K"
      }
    },
    {
      "cell_type": "code",
      "source": [
        "y_pred = model.predict(X_test)\n",
        "y_pred"
      ],
      "metadata": {
        "colab": {
          "base_uri": "https://localhost:8080/"
        },
        "id": "fSLBq1RklWGS",
        "outputId": "bb7b5bbd-3370-47cb-dfbd-efa64b0c0a1d"
      },
      "execution_count": 126,
      "outputs": [
        {
          "output_type": "stream",
          "name": "stdout",
          "text": [
            "1/1 [==============================] - 0s 21ms/step\n"
          ]
        },
        {
          "output_type": "execute_result",
          "data": {
            "text/plain": [
              "array([[ 69.74105 ],\n",
              "       [ 73.72205 ],\n",
              "       [ 77.70304 ],\n",
              "       [ 81.68403 ],\n",
              "       [ 85.66504 ],\n",
              "       [ 89.64604 ],\n",
              "       [ 93.627045],\n",
              "       [ 97.60804 ],\n",
              "       [101.58902 ],\n",
              "       [105.57002 ]], dtype=float32)"
            ]
          },
          "metadata": {},
          "execution_count": 126
        }
      ]
    },
    {
      "cell_type": "code",
      "source": [
        "Y_test"
      ],
      "metadata": {
        "colab": {
          "base_uri": "https://localhost:8080/"
        },
        "id": "TJU4ByWxld5T",
        "outputId": "c30cfd41-dba0-4579-fa58-46d6e19fe804"
      },
      "execution_count": 82,
      "outputs": [
        {
          "output_type": "execute_result",
          "data": {
            "text/plain": [
              "<tf.Tensor: shape=(10,), dtype=int32, numpy=array([ 70,  74,  78,  82,  86,  90,  94,  98, 102, 106], dtype=int32)>"
            ]
          },
          "metadata": {},
          "execution_count": 82
        }
      ]
    },
    {
      "cell_type": "code",
      "source": [
        "def plot_predictions(training_data=X_train,\n",
        "                     training_labels=Y_train,\n",
        "                     test_data=X_test,\n",
        "                     test_labels=Y_test,\n",
        "                     predictions=y_pred):\n",
        "  plt.figure(figsize=(10,7))\n",
        "  plt.scatter(training_data,training_labels,c=\"b\",label=\"training data\")\n",
        "  plt.scatter(test_data,test_labels,c=\"g\",label=\"testing data\")\n",
        "  plt.scatter(test_data,predictions,c=\"r\",label=\"prediction data\")\n",
        "\n",
        "  plt.legend()\n",
        "\n"
      ],
      "metadata": {
        "id": "c43liQR4lhY7"
      },
      "execution_count": 127,
      "outputs": []
    },
    {
      "cell_type": "code",
      "source": [
        "plot_predictions()"
      ],
      "metadata": {
        "colab": {
          "base_uri": "https://localhost:8080/",
          "height": 599
        },
        "id": "Gys4M6zdmjFa",
        "outputId": "78445cac-2e0c-4b8a-a6b9-c295b1083180"
      },
      "execution_count": 128,
      "outputs": [
        {
          "output_type": "display_data",
          "data": {
            "text/plain": [
              "<Figure size 1000x700 with 1 Axes>"
            ],
            "image/png": "[encoded data removed]"
          },
          "metadata": {}
        }
      ]
    },
    {
      "cell_type": "markdown",
      "source": [
        "# Evaluation model with regression\n",
        "Multiple ways to evaluate the model performance with metrics\n",
        "\n",
        "* MAE - Mean Absolute Error; \"On average, how wrong is each of my model's predictions\"\n",
        "* MSE Mean Scalar Error"
      ],
      "metadata": {
        "id": "bYMUGQj0mqeX"
      }
    },
    {
      "cell_type": "markdown",
      "source": [
        "# Experiments to improve the model\n",
        "Build -> Fit -> Evaluate -> Tweak -> Fit -> Evaluate -> Tweak ...\n",
        "\n"
      ],
      "metadata": {
        "id": "wzndSb-QnIZb"
      }
    },
    {
      "cell_type": "code",
      "source": [
        "def calculate_mae(test_data,prediction):\n",
        "  return tf.metrics.mean_absolute_error(y_true=test_data,\n",
        "                                        y_pred=tf.squeeze(prediction))\n",
        "\n",
        "def calculate_mse(test_data,prediction):\n",
        "  return tf.metrics.mean_squared_error(y_true=test_data,\n",
        "                                        y_pred=tf.squeeze(prediction))"
      ],
      "metadata": {
        "id": "S0LKvHC3s_sO"
      },
      "execution_count": 134,
      "outputs": []
    },
    {
      "cell_type": "code",
      "source": [
        "model_1 = tf.keras.Sequential([\n",
        "    tf.keras.layers.Dense(10,input_shape=[1]),\n",
        "    tf.keras.layers.Dense(1)\n",
        "])\n",
        "model_1.compile(loss=tf.keras.losses.mae,\n",
        "                optimizer=tf.keras.optimizers.SGD(),\n",
        "                metrics=[\"mae\"])\n",
        "model_1.fit(tf.expand_dims(X_train,axis=-1),Y_train,epochs=100,verbose=0)\n",
        "Y_pred_1 = model_1.predict(X_test)\n",
        "plot_predictions(predictions=Y_pred_1)\n",
        "print(\"MAE = \", calculate_mae(X_test,Y_pred_1))\n",
        "print(\"MSE = \",calculate_mse(X_test,Y_pred_1))"
      ],
      "metadata": {
        "colab": {
          "base_uri": "https://localhost:8080/",
          "height": 651
        },
        "id": "DDsS2V-TvQgO",
        "outputId": "23d1f340-2648-4992-bd49-60e221d05489"
      },
      "execution_count": 135,
      "outputs": [
        {
          "output_type": "stream",
          "name": "stdout",
          "text": [
            "1/1 [==============================] - 0s 53ms/step\n",
            "MAE =  tf.Tensor(23.304178, shape=(), dtype=float32)\n",
            "MSE =  tf.Tensor(553.1708, shape=(), dtype=float32)\n"
          ]
        },
        {
          "output_type": "display_data",
          "data": {
            "text/plain": [
              "<Figure size 1000x700 with 1 Axes>"
            ],
            "image/png": "[encoded data removed]"
          },
          "metadata": {}
        }
      ]
    },
    {
      "cell_type": "code",
      "source": [
        "#Increase number of Hidden Layers\n",
        "model_2 = tf.keras.Sequential([\n",
        "    tf.keras.layers.Dense(10,input_shape=[1]),\n",
        "    tf.keras.layers.Dense(10),\n",
        "    tf.keras.layers.Dense(1)\n",
        "])\n",
        "model_2.compile(loss=tf.keras.losses.mae,\n",
        "                optimizer=tf.keras.optimizers.SGD(),\n",
        "                metrics=[\"mae\"])\n",
        "model_2.fit(tf.expand_dims(X_train,axis=-1),Y_train,epochs=100,verbose=0)\n",
        "Y_pred_2 = model_2.predict(X_test)\n",
        "plot_predictions(predictions=Y_pred_2)\n",
        "print(\"MAE = \", calculate_mae(X_test,Y_pred_2))\n",
        "print(\"MSE = \",calculate_mse(X_test,Y_pred_2))"
      ],
      "metadata": {
        "colab": {
          "base_uri": "https://localhost:8080/",
          "height": 651
        },
        "id": "0R02usr7wsje",
        "outputId": "2fd83c5d-e789-4b6b-f980-7287010a6e01"
      },
      "execution_count": 139,
      "outputs": [
        {
          "output_type": "stream",
          "name": "stdout",
          "text": [
            "1/1 [==============================] - 0s 206ms/step\n",
            "MAE =  tf.Tensor(65.740524, shape=(), dtype=float32)\n",
            "MSE =  tf.Tensor(4418.1787, shape=(), dtype=float32)\n"
          ]
        },
        {
          "output_type": "display_data",
          "data": {
            "text/plain": [
              "<Figure size 1000x700 with 1 Axes>"
            ],
            "image/png": "[encoded data removed]"
          },
          "metadata": {}
        }
      ]
    },
    {
      "cell_type": "code",
      "source": [
        "#Increase number of epochs\n",
        "model_3 = tf.keras.Sequential([\n",
        "    tf.keras.layers.Dense(10,input_shape=[1]),\n",
        "    tf.keras.layers.Dense(10),\n",
        "    tf.keras.layers.Dense(1)\n",
        "])\n",
        "model_3.compile(loss=tf.keras.losses.mae,\n",
        "                optimizer=tf.keras.optimizers.SGD(),\n",
        "                metrics=[\"mae\"])\n",
        "model_3.fit(tf.expand_dims(X_train,axis=-1),Y_train,epochs=500,verbose=0)\n",
        "Y_pred_3 = model_3.predict(X_test)\n",
        "plot_predictions(predictions=Y_pred_3)\n",
        "print(\"MAE = \", calculate_mae(X_test,Y_pred_3))\n",
        "print(\"MSE = \",calculate_mse(X_test,Y_pred_3))"
      ],
      "metadata": {
        "colab": {
          "base_uri": "https://localhost:8080/",
          "height": 651
        },
        "id": "cu7yHbIZxC7-",
        "outputId": "c8f4a61d-d5c7-4e9a-deb6-cad221cdefe7"
      },
      "execution_count": 140,
      "outputs": [
        {
          "output_type": "stream",
          "name": "stdout",
          "text": [
            "1/1 [==============================] - 0s 59ms/step\n",
            "MAE =  tf.Tensor(69.7632, shape=(), dtype=float32)\n",
            "MSE =  tf.Tensor(4979.665, shape=(), dtype=float32)\n"
          ]
        },
        {
          "output_type": "display_data",
          "data": {
            "text/plain": [
              "<Figure size 1000x700 with 1 Axes>"
            ],
            "image/png": "[encoded data removed]"
          },
          "metadata": {}
        }
      ]
    },
    {
      "cell_type": "code",
      "source": [
        "model_4 = tf.keras.Sequential([\n",
        "    tf.keras.layers.Dense(5, input_shape =[1],name=\"input_layer\"),\n",
        "    tf.keras.layers.Dense(1,name=\"output_layer\")\n",
        "])\n",
        "\n",
        "model_4.compile(loss=tf.keras.losses.mae,\n",
        "              optimizer=tf.keras.optimizers.Adam(learning_rate=0.01),\n",
        "              metrics=[\"mae\"])\n",
        "model_4.fit(tf.expand_dims(X_train,axis=-1),Y_train,epochs=200,verbose=0)\n",
        "Y_pred_4 = model_4.predict(X_test)\n",
        "plot_predictions(predictions=Y_pred_4)\n",
        "print(\"MAE = \", calculate_mae(X_test,Y_pred_4))\n",
        "print(\"MSE = \",calculate_mse(X_test,Y_pred_4))"
      ],
      "metadata": {
        "colab": {
          "base_uri": "https://localhost:8080/",
          "height": 651
        },
        "id": "TGLB0zOTxebk",
        "outputId": "0bad4510-3070-44b1-fb39-1ddc5f79a1be"
      },
      "execution_count": 141,
      "outputs": [
        {
          "output_type": "stream",
          "name": "stdout",
          "text": [
            "1/1 [==============================] - 0s 52ms/step\n",
            "MAE =  tf.Tensor(10.128834, shape=(), dtype=float32)\n",
            "MSE =  tf.Tensor(102.59349, shape=(), dtype=float32)\n"
          ]
        },
        {
          "output_type": "display_data",
          "data": {
            "text/plain": [
              "<Figure size 1000x700 with 1 Axes>"
            ],
            "image/png": "[encoded data removed]"
          },
          "metadata": {}
        }
      ]
    },
    {
      "cell_type": "markdown",
      "source": [
        "# Save Models\n",
        "Two main format\n",
        "SavedModel\n",
        "HDF5"
      ],
      "metadata": {
        "id": "Ue4wl6tnxwGV"
      }
    },
    {
      "cell_type": "code",
      "source": [
        "model_4.save(\"best_model\")"
      ],
      "metadata": {
        "id": "5LmhbV5Oy84H"
      },
      "execution_count": 142,
      "outputs": []
    },
    {
      "cell_type": "code",
      "source": [
        "model_4.save(\"best_model.h5\")"
      ],
      "metadata": {
        "colab": {
          "base_uri": "https://localhost:8080/"
        },
        "id": "9T-il-jFz6o0",
        "outputId": "33992b24-71a4-4d27-e2d3-f036ef2a9866"
      },
      "execution_count": 143,
      "outputs": [
        {
          "output_type": "stream",
          "name": "stderr",
          "text": [
            "/usr/local/lib/python3.10/dist-packages/keras/src/engine/training.py:3103: UserWarning: You are saving your model as an HDF5 file via `model.save()`. This file format is considered legacy. We recommend using instead the native Keras format, e.g. `model.save('my_model.keras')`.\n",
            "  saving_api.save_model(\n"
          ]
        }
      ]
    },
    {
      "cell_type": "code",
      "source": [
        "model_saved = tf.keras.models.load_model(\"best_model\")\n",
        "model_saved.summary()"
      ],
      "metadata": {
        "colab": {
          "base_uri": "https://localhost:8080/"
        },
        "id": "yr51Q7qY0Lca",
        "outputId": "6b7f6a20-183e-4029-ef1d-11238e3f0baf"
      },
      "execution_count": 144,
      "outputs": [
        {
          "output_type": "stream",
          "name": "stdout",
          "text": [
            "Model: \"sequential_42\"\n",
            "_________________________________________________________________\n",
            " Layer (type)                Output Shape              Param #   \n",
            "=================================================================\n",
            " input_layer (Dense)         (None, 5)                 10        \n",
            "                                                                 \n",
            " output_layer (Dense)        (None, 1)                 6         \n",
            "                                                                 \n",
            "=================================================================\n",
            "Total params: 16 (64.00 Byte)\n",
            "Trainable params: 16 (64.00 Byte)\n",
            "Non-trainable params: 0 (0.00 Byte)\n",
            "_________________________________________________________________\n"
          ]
        }
      ]
    },
    {
      "cell_type": "code",
      "source": [
        "preds = model_saved.predict(X_test)\n",
        "Y_pred_4, preds"
      ],
      "metadata": {
        "colab": {
          "base_uri": "https://localhost:8080/"
        },
        "id": "KnmP_Yc60oMG",
        "outputId": "1e3a9c5d-1bb8-4bc0-e1b3-1865bca6db3f"
      },
      "execution_count": 147,
      "outputs": [
        {
          "output_type": "stream",
          "name": "stdout",
          "text": [
            "1/1 [==============================] - 0s 39ms/step\n"
          ]
        },
        {
          "output_type": "execute_result",
          "data": {
            "text/plain": [
              "(array([[ 70.10552 ],\n",
              "        [ 74.1107  ],\n",
              "        [ 78.11588 ],\n",
              "        [ 82.12107 ],\n",
              "        [ 86.126236],\n",
              "        [ 90.131424],\n",
              "        [ 94.136604],\n",
              "        [ 98.141785],\n",
              "        [102.14696 ],\n",
              "        [106.15215 ]], dtype=float32),\n",
              " array([[ 70.10552 ],\n",
              "        [ 74.1107  ],\n",
              "        [ 78.11588 ],\n",
              "        [ 82.12107 ],\n",
              "        [ 86.126236],\n",
              "        [ 90.131424],\n",
              "        [ 94.136604],\n",
              "        [ 98.141785],\n",
              "        [102.14696 ],\n",
              "        [106.15215 ]], dtype=float32))"
            ]
          },
          "metadata": {},
          "execution_count": 147
        }
      ]
    },
    {
      "cell_type": "code",
      "source": [],
      "metadata": {
        "id": "rMEYgk2x02wz"
      },
      "execution_count": null,
      "outputs": []
    }
  ]
}